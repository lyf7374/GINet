{
 "cells": [
  {
   "cell_type": "code",
   "execution_count": 1,
   "id": "2e45ad5c",
   "metadata": {
    "ExecuteTime": {
     "end_time": "2025-06-05T17:27:21.724084Z",
     "start_time": "2025-06-05T17:27:21.428727Z"
    }
   },
   "outputs": [
    {
     "name": "stdout",
     "output_type": "stream",
     "text": [
      "Num of Healthy: 359, Tumor: 125\n"
     ]
    }
   ],
   "source": [
    "import os\n",
    "def listdir_nohidden(path):\n",
    "    for f in os.listdir(path):\n",
    "        if not f.startswith('.'):\n",
    "            yield f\n",
    "# data preprocessing\n",
    "data_pth = '/Users/yifanli/Desktop/P2/mytest/'\n",
    "tumor_path_all =data_pth+'tumor_data'\n",
    "tumor_patients = np.load(data_pth+'data_utils/tumor_patients.npy')\n",
    "patients=np.load(data_pth+'data_utils/H_patients.npy')\n",
    "\n",
    "\n",
    "images_path = data_pth+'H_data' + '/' + 'Original'\n",
    "labels_path = data_pth+ 'H_data' + '/' + 'STAPLE'\n",
    "\n",
    "\n",
    "skull_brain_path = []\n",
    "brain_masks = []\n",
    "\n",
    "for p_fold in listdir_nohidden(images_path):\n",
    "    patient_id = p_fold[:-7]\n",
    "    if len(patient_id)>2 and 'nii.gz' in p_fold:\n",
    "        BrainSkull_path = images_path + '/' + patient_id + '.nii.gz'\n",
    "        Brain_mask = labels_path + '/' + patient_id + '_staple.nii.gz'\n",
    "        skull_brain_path.append(BrainSkull_path) \n",
    "        brain_masks.append(Brain_mask) \n",
    "\n",
    "                \n",
    "skull_brain_path_order = []\n",
    "for j in range(len(patients)):\n",
    "    for i in range(len(skull_brain_path)):\n",
    "\n",
    "        if patients[j] in skull_brain_path[i].split('/')[-1].split('.')[0]:\n",
    "            skull_brain_path_order.append(skull_brain_path[i])\n",
    "brain_masks_order = []\n",
    "for j in range(len(patients)):\n",
    "    for i in range(len(brain_masks)):\n",
    "\n",
    "        if  patients[j] in brain_masks[i].split('/')[-1].split('.')[0]:   \n",
    "     \n",
    "            brain_masks_order.append(brain_masks[i])     \n",
    "            \n",
    "skull_brain_path = skull_brain_path_order\n",
    "brain_masks = brain_masks_order\n",
    "\n",
    "tumor_skull_path = []\n",
    "tumor_brain_masks = []\n",
    "\n",
    "for data_folder in listdir_nohidden(tumor_path_all):\n",
    "    folder_path = tumor_path_all + '/' + data_folder\n",
    "    \n",
    "    files =[]\n",
    "    for p_fold in listdir_nohidden(folder_path):\n",
    "        files.append(p_fold)    \n",
    "    tumor_skull_path.append(folder_path + '/' + 'T1C.nii.gz')\n",
    "    if 'T1C_brain_mask_mc.nii.gz' in files:\n",
    "        tumor_brain_masks.append(folder_path + '/' + 'T1C_brain_mask_mc.nii.gz')\n",
    "    elif 'T1C_brain_mask_m.nii.gz' in files:\n",
    "        tumor_brain_masks.append(folder_path + '/' + 'T1C_brain_mask_m.nii.gz')\n",
    "    else:\n",
    "        print('error  ',folder_path)\n",
    "    \n",
    "tumor_skull_path_order = []\n",
    "tumor_brain_masks_order = []\n",
    "\n",
    "for j in range(len(tumor_patients)):\n",
    "    for i in range(len(tumor_skull_path)):\n",
    "        if tumor_patients[j] == tumor_skull_path[i].split('/')[-2]:\n",
    "            tumor_skull_path_order.append(tumor_skull_path[i])\n",
    "    for i in range(len(tumor_brain_masks)):\n",
    "        if tumor_patients[j] == tumor_brain_masks[i].split('/')[-2]:\n",
    "            tumor_brain_masks_order.append(tumor_brain_masks[i])\n",
    "tumor_skull_path = tumor_skull_path_order\n",
    "tumor_brain_masks = tumor_brain_masks_order  \n",
    "print(\"Num of Healthy: {}, Tumor: {}\" .format(len(skull_brain_path),len(tumor_skull_path)))  \n"
   ]
  },
  {
   "cell_type": "code",
   "execution_count": 3,
   "id": "6949dedf",
   "metadata": {
    "ExecuteTime": {
     "end_time": "2025-06-05T17:31:25.922196Z",
     "start_time": "2025-06-05T17:31:25.917430Z"
    }
   },
   "outputs": [],
   "source": [
    "import mcubes\n",
    "import trimesh\n",
    "from datasets.preprocess import process_scan\n",
    "from datasets.GI_generator_support import process_point_cloud_single_patient\n",
    "import tqdm\n",
    "\n",
    "center_359 = np.load('data_utils/center359.npy')\n",
    "center_H = center_359\n",
    "center_H = [center_H[i] for i in range(len(center_H))]"
   ]
  },
  {
   "cell_type": "code",
   "execution_count": 4,
   "id": "900f66a7",
   "metadata": {
    "ExecuteTime": {
     "end_time": "2025-06-05T17:52:40.332101Z",
     "start_time": "2025-06-05T17:32:03.047558Z"
    }
   },
   "outputs": [
    {
     "name": "stderr",
     "output_type": "stream",
     "text": [
      "100%|█████████████████████████████████████████| 359/359 [20:37<00:00,  3.45s/it]\n"
     ]
    }
   ],
   "source": [
    "import mcubes\n",
    "import trimesh\n",
    "# Center of Brain Template \n",
    "center = np.array([96.0000, 97.9472, 78.2826])\n",
    "\n",
    "re_sample=True\n",
    "if re_sample ==True:\n",
    "    n_pc = 4096\n",
    "    n_patch = int(n_pc**0.5)\n",
    "\n",
    "    GI_H = []\n",
    "    center_gH = []\n",
    "    for i,mask in enumerate(tqdm.tqdm(brain_masks)):\n",
    "\n",
    "        input_v = process_scan(mask,mask=True,output_shape=(192,192,192),center=center_H[i])\n",
    "\n",
    "        smooth = False\n",
    "        if smooth == False:\n",
    "            vertices, triangles = mcubes.marching_cubes(input_v, 0)\n",
    "        else:\n",
    "            smoothed_sphere = mcubes.smooth(input_v)\n",
    "\n",
    "        mcubes.export_obj(vertices, triangles, 'Hcurrent.obj')\n",
    "        m = trimesh.load_mesh('Hcurrent.obj')\n",
    "        processed_data_single_patient = process_point_cloud_single_patient(m.vertices,center,n_patch,n_patch,catesian=True)\n",
    "        if processed_data_single_patient.shape[0]< n_patch*n_patch:\n",
    "            print(i,processed_data_single_patient.shape[0])\n",
    "        GI_H.append(processed_data_single_patient)\n",
    "        \n",
    "    np.save('data_utils/cGI_H_{}rpt_preC_noc.npy'.format(n_pc),np.array(GI_H))\n",
    "\n"
   ]
  }
 ],
 "metadata": {
  "kernelspec": {
   "display_name": "Python 3 (ipykernel)",
   "language": "python",
   "name": "python3"
  },
  "language_info": {
   "codemirror_mode": {
    "name": "ipython",
    "version": 3
   },
   "file_extension": ".py",
   "mimetype": "text/x-python",
   "name": "python",
   "nbconvert_exporter": "python",
   "pygments_lexer": "ipython3",
   "version": "3.8.8"
  },
  "toc": {
   "base_numbering": 1,
   "nav_menu": {},
   "number_sections": true,
   "sideBar": true,
   "skip_h1_title": false,
   "title_cell": "Table of Contents",
   "title_sidebar": "Contents",
   "toc_cell": false,
   "toc_position": {},
   "toc_section_display": true,
   "toc_window_display": false
  },
  "varInspector": {
   "cols": {
    "lenName": 16,
    "lenType": 16,
    "lenVar": 40
   },
   "kernels_config": {
    "python": {
     "delete_cmd_postfix": "",
     "delete_cmd_prefix": "del ",
     "library": "var_list.py",
     "varRefreshCmd": "print(var_dic_list())"
    },
    "r": {
     "delete_cmd_postfix": ") ",
     "delete_cmd_prefix": "rm(",
     "library": "var_list.r",
     "varRefreshCmd": "cat(var_dic_list()) "
    }
   },
   "types_to_exclude": [
    "module",
    "function",
    "builtin_function_or_method",
    "instance",
    "_Feature"
   ],
   "window_display": false
  }
 },
 "nbformat": 4,
 "nbformat_minor": 5
}
